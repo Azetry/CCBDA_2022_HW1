{
 "cells": [
  {
   "cell_type": "markdown",
   "metadata": {},
   "source": [
    "[reference](https://discuss.pytorch.org/t/dataloader-for-various-length-of-data/6418/13)"
   ]
  },
  {
   "cell_type": "code",
   "execution_count": 1,
   "metadata": {},
   "outputs": [],
   "source": [
    "# set project path\n",
    "import sys\n",
    "from setting import PROJECT_PTH\n",
    "sys.path.append(str(PROJECT_PTH))"
   ]
  },
  {
   "cell_type": "code",
   "execution_count": 2,
   "metadata": {},
   "outputs": [],
   "source": [
    "import pandas as pd\n",
    "import numpy as np\n",
    "from pathlib import Path\n",
    "import matplotlib.pyplot as plt\n",
    "import pickle\n",
    "import cv2\n",
    "from PIL import Image\n",
    "\n",
    "import torch\n",
    "from torch.utils.data import DataLoader\n",
    "from torch.nn.utils.rnn import pad_sequence\n",
    "import torchvision.transforms as transforms\n",
    "from torchvision.transforms import functional as F"
   ]
  },
  {
   "cell_type": "code",
   "execution_count": 3,
   "metadata": {},
   "outputs": [],
   "source": [
    "from package.videoDataset import VideoDataset"
   ]
  },
  {
   "cell_type": "code",
   "execution_count": 4,
   "metadata": {},
   "outputs": [],
   "source": [
    "transform_train = transforms.Compose([\n",
    "    transforms.ToTensor(), # must have -> getitem():...torch.stack(frames_tr)\n",
    "    transforms.Resize((128,128))\n",
    "])\n",
    "dataset_train = VideoDataset(file_list=\"20221003001_trainDataFileList.pickle\", transform=transform_train)"
   ]
  },
  {
   "cell_type": "code",
   "execution_count": 5,
   "metadata": {},
   "outputs": [
    {
     "name": "stdout",
     "output_type": "stream",
     "text": [
      "30000\n"
     ]
    }
   ],
   "source": [
    "print(len(dataset_train))"
   ]
  },
  {
   "cell_type": "code",
   "execution_count": 6,
   "metadata": {},
   "outputs": [
    {
     "name": "stdout",
     "output_type": "stream",
     "text": [
      "81.0\n",
      "80\n",
      "--------\n"
     ]
    }
   ],
   "source": [
    "frames, label = dataset_train[3]"
   ]
  },
  {
   "cell_type": "code",
   "execution_count": 7,
   "metadata": {},
   "outputs": [
    {
     "data": {
      "text/plain": [
       "torch.Size([3, 128, 128])"
      ]
     },
     "execution_count": 7,
     "metadata": {},
     "output_type": "execute_result"
    }
   ],
   "source": [
    "frames[0].size()"
   ]
  },
  {
   "cell_type": "code",
   "execution_count": 8,
   "metadata": {},
   "outputs": [],
   "source": [
    "def batch_collate(batch):\n",
    "    data = [item[0] for item in batch]\n",
    "    data = pad_sequence(data, batch_first=True)\n",
    "\n",
    "    labels = [item[1] for item in batch]\n",
    "    labels = torch.Tensor(labels)\n",
    "\n",
    "    return data, labels"
   ]
  },
  {
   "cell_type": "code",
   "execution_count": 9,
   "metadata": {},
   "outputs": [],
   "source": [
    "train_dataloader = DataLoader(dataset_train, batch_size=64, shuffle=True)"
   ]
  },
  {
   "cell_type": "code",
   "execution_count": 10,
   "metadata": {},
   "outputs": [
    {
     "name": "stdout",
     "output_type": "stream",
     "text": [
      "81.0\n",
      "80\n",
      "--------\n",
      "81.0\n",
      "80\n",
      "--------\n",
      "72.0\n",
      "80\n",
      "--------\n",
      "81.0\n",
      "80\n",
      "--------\n",
      "81.0\n",
      "80\n",
      "--------\n",
      "80.0\n",
      "80\n",
      "--------\n",
      "81.0\n",
      "80\n",
      "--------\n",
      "55.0\n",
      "80\n",
      "--------\n",
      "81.0\n",
      "80\n",
      "--------\n",
      "81.0\n",
      "80\n",
      "--------\n",
      "69.0\n",
      "80\n",
      "--------\n",
      "80.0\n",
      "80\n",
      "--------\n",
      "80.0\n",
      "80\n",
      "--------\n",
      "81.0\n",
      "80\n",
      "--------\n",
      "81.0\n",
      "80\n",
      "--------\n",
      "81.0\n",
      "80\n",
      "--------\n",
      "44.0\n",
      "80\n",
      "--------\n",
      "81.0\n",
      "80\n",
      "--------\n",
      "81.0\n",
      "80\n",
      "--------\n",
      "81.0\n",
      "80\n",
      "--------\n",
      "81.0\n",
      "80\n",
      "--------\n",
      "46.0\n",
      "80\n",
      "--------\n",
      "81.0\n",
      "80\n",
      "--------\n",
      "81.0\n",
      "80\n",
      "--------\n",
      "81.0\n",
      "80\n",
      "--------\n",
      "80.0\n",
      "80\n",
      "--------\n",
      "81.0\n",
      "80\n",
      "--------\n",
      "81.0\n",
      "80\n",
      "--------\n",
      "81.0\n",
      "80\n",
      "--------\n",
      "81.0\n",
      "80\n",
      "--------\n",
      "81.0\n",
      "80\n",
      "--------\n",
      "81.0\n",
      "80\n",
      "--------\n",
      "81.0\n",
      "80\n",
      "--------\n",
      "80.0\n",
      "80\n",
      "--------\n",
      "80.0\n",
      "80\n",
      "--------\n",
      "81.0\n",
      "80\n",
      "--------\n",
      "81.0\n",
      "80\n",
      "--------\n",
      "81.0\n",
      "80\n",
      "--------\n",
      "81.0\n",
      "80\n",
      "--------\n",
      "81.0\n",
      "80\n",
      "--------\n",
      "81.0\n",
      "80\n",
      "--------\n",
      "81.0\n",
      "80\n",
      "--------\n",
      "81.0\n",
      "80\n",
      "--------\n",
      "81.0\n",
      "80\n",
      "--------\n",
      "81.0\n",
      "80\n",
      "--------\n",
      "80.0\n",
      "80\n",
      "--------\n",
      "80.0\n",
      "80\n",
      "--------\n",
      "50.0\n",
      "80\n",
      "--------\n",
      "68.0\n",
      "80\n",
      "--------\n",
      "81.0\n",
      "80\n",
      "--------\n",
      "81.0\n",
      "80\n",
      "--------\n",
      "57.0\n",
      "80\n",
      "--------\n",
      "6.0\n",
      "80\n",
      "--------\n",
      "81.0\n",
      "80\n",
      "--------\n",
      "60.0\n",
      "80\n",
      "--------\n",
      "50.0\n",
      "80\n",
      "--------\n",
      "80.0\n",
      "80\n",
      "--------\n",
      "81.0\n",
      "80\n",
      "--------\n",
      "81.0\n",
      "80\n",
      "--------\n",
      "80.0\n",
      "80\n",
      "--------\n",
      "81.0\n",
      "80\n",
      "--------\n",
      "80.0\n",
      "80\n",
      "--------\n",
      "81.0\n",
      "80\n",
      "--------\n",
      "81.0\n",
      "80\n",
      "--------\n"
     ]
    }
   ],
   "source": [
    "train_features, train_labels = next(iter(train_dataloader))"
   ]
  },
  {
   "cell_type": "code",
   "execution_count": 11,
   "metadata": {},
   "outputs": [
    {
     "data": {
      "text/plain": [
       "torch.Size([80, 3, 128, 128])"
      ]
     },
     "execution_count": 11,
     "metadata": {},
     "output_type": "execute_result"
    }
   ],
   "source": [
    "train_features[3].size()"
   ]
  },
  {
   "cell_type": "code",
   "execution_count": null,
   "metadata": {},
   "outputs": [],
   "source": []
  }
 ],
 "metadata": {
  "kernelspec": {
   "display_name": "Python 3.9.13 ('torch')",
   "language": "python",
   "name": "python3"
  },
  "language_info": {
   "codemirror_mode": {
    "name": "ipython",
    "version": 3
   },
   "file_extension": ".py",
   "mimetype": "text/x-python",
   "name": "python",
   "nbconvert_exporter": "python",
   "pygments_lexer": "ipython3",
   "version": "3.9.13"
  },
  "orig_nbformat": 4,
  "vscode": {
   "interpreter": {
    "hash": "fdcc50b8790cd79eba7c7760378c0f44ab97d60599e9e289704406bba2ea7b42"
   }
  }
 },
 "nbformat": 4,
 "nbformat_minor": 2
}
