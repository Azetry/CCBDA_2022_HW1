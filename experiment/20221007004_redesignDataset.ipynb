{
 "cells": [
  {
   "cell_type": "code",
   "execution_count": 1,
   "metadata": {},
   "outputs": [],
   "source": [
    "# set project path\n",
    "import sys\n",
    "from setting import PROJECT_PTH\n",
    "sys.path.append(str(PROJECT_PTH))"
   ]
  },
  {
   "cell_type": "code",
   "execution_count": 2,
   "metadata": {},
   "outputs": [],
   "source": [
    "import pandas as pd\n",
    "import numpy as np\n",
    "from pathlib import Path\n",
    "import matplotlib.pyplot as plt\n",
    "import pickle\n",
    "import cv2\n",
    "from PIL import Image\n",
    "\n",
    "import torch\n",
    "import torchvision.transforms as transforms\n",
    "from torchvision.transforms import functional as F\n"
   ]
  },
  {
   "cell_type": "code",
   "execution_count": 3,
   "metadata": {},
   "outputs": [
    {
     "data": {
      "text/plain": [
       "<torch._C.Generator at 0x7f4b67ba34b0>"
      ]
     },
     "execution_count": 3,
     "metadata": {},
     "output_type": "execute_result"
    }
   ],
   "source": [
    "import random\n",
    "np.random.seed(2022)\n",
    "random.seed(2022)\n",
    "torch.manual_seed(2022)"
   ]
  },
  {
   "cell_type": "code",
   "execution_count": 4,
   "metadata": {},
   "outputs": [],
   "source": [
    "def readVideo(pth_video):\n",
    "    videoCapture = cv2.VideoCapture(pth_video)\n",
    "\n",
    "    fps = videoCapture.get(cv2.CAP_PROP_FPS)\n",
    "    size = (int(videoCapture.get(cv2.CAP_PROP_FRAME_WIDTH)), \n",
    "            int(videoCapture.get(cv2.CAP_PROP_FRAME_HEIGHT)))\n",
    "    fNUMS = videoCapture.get(cv2.CAP_PROP_FRAME_COUNT)\n",
    "\n",
    "    frames = list()\n",
    "    while (videoCapture.isOpened()):\n",
    "        ret, frame = videoCapture.read()\n",
    "\n",
    "        if ret: frames.append( cv2.cvtColor(frame,cv2.COLOR_BGR2RGB) )\n",
    "        else: break\n",
    "    \n",
    "    videoCapture.release()\n",
    "    # print(\"video size:\", size)\n",
    "\n",
    "    return fps, size, fNUMS, frames"
   ]
  },
  {
   "cell_type": "code",
   "execution_count": 5,
   "metadata": {},
   "outputs": [],
   "source": [
    "class VideoDataset(torch.utils.data.Dataset):\n",
    "    def __init__(self, file_list, transform):\n",
    "        self.transform = transform\n",
    "        with open(file_list, \"rb\") as f:\n",
    "            self.file_list = pickle.load(f)\n",
    "        \n",
    "\n",
    "    def __len__(self):\n",
    "        return len(self.file_list)\n",
    "\n",
    "    def __getitem__(self, idx):\n",
    "        pth_video = self.file_list.iloc[idx].file_pth\n",
    "        label = self.file_list.iloc[idx].cls\n",
    "\n",
    "        fps, size, fNUMS, frames = readVideo(pth_video)\n",
    "\n",
    "\n",
    "        seed = np.random.randint(1e9)\n",
    "        frames_tr = []\n",
    "        for frame in frames:\n",
    "            random.seed(seed)\n",
    "            np.random.seed(seed)\n",
    "            frame = self.transform(frame)\n",
    "            frames_tr.append(frame)\n",
    "\n",
    "        if fNUMS > 80: del frames_tr[80:]\n",
    "        elif fNUMS < 80: frames_tr = frames_tr+frames_tr[0: 80-fNUMS ]\n",
    "\n",
    "        if len(frames_tr) > 0: frames_tr = torch.stack(frames_tr)\n",
    "\n",
    "        return frames_tr, label"
   ]
  },
  {
   "cell_type": "markdown",
   "metadata": {},
   "source": [
    "**Becareful:**\n",
    "ToTensor:\n",
    "- input: (H,W,C), value [0-255]\n",
    "- output: (C,H,W), value [0.0-1.0]"
   ]
  },
  {
   "cell_type": "code",
   "execution_count": 11,
   "metadata": {},
   "outputs": [],
   "source": [
    "transform_train = transforms.Compose([\n",
    "    transforms.ToTensor(), # must have -> getitem():...torch.stack(frames_tr)\n",
    "    transforms.Resize((128,128))\n",
    "])\n",
    "dataset_train = VideoDataset(file_list=\"20221003001_trainDataFileList.pickle\", transform=transform_train)"
   ]
  },
  {
   "cell_type": "code",
   "execution_count": 12,
   "metadata": {},
   "outputs": [
    {
     "name": "stdout",
     "output_type": "stream",
     "text": [
      "30000\n"
     ]
    }
   ],
   "source": [
    "print(len(dataset_train))"
   ]
  },
  {
   "cell_type": "code",
   "execution_count": 13,
   "metadata": {},
   "outputs": [],
   "source": [
    "frames, label = dataset_train[12345]"
   ]
  },
  {
   "cell_type": "code",
   "execution_count": 14,
   "metadata": {},
   "outputs": [
    {
     "data": {
      "text/plain": [
       "80"
      ]
     },
     "execution_count": 14,
     "metadata": {},
     "output_type": "execute_result"
    }
   ],
   "source": [
    "len(frames)"
   ]
  },
  {
   "cell_type": "code",
   "execution_count": 15,
   "metadata": {},
   "outputs": [
    {
     "data": {
      "image/png": "[encoded data removed]",
      "text/plain": [
       "<PIL.Image.Image image mode=RGB size=128x128>"
      ]
     },
     "execution_count": 15,
     "metadata": {},
     "output_type": "execute_result"
    }
   ],
   "source": [
    "F.to_pil_image(frames[0])"
   ]
  },
  {
   "cell_type": "code",
   "execution_count": 16,
   "metadata": {},
   "outputs": [
    {
     "data": {
      "text/plain": [
       "80"
      ]
     },
     "execution_count": 16,
     "metadata": {},
     "output_type": "execute_result"
    }
   ],
   "source": [
    "len(frames)"
   ]
  },
  {
   "cell_type": "code",
   "execution_count": null,
   "metadata": {},
   "outputs": [],
   "source": []
  }
 ],
 "metadata": {
  "kernelspec": {
   "display_name": "Python 3.9.13 ('torch')",
   "language": "python",
   "name": "python3"
  },
  "language_info": {
   "codemirror_mode": {
    "name": "ipython",
    "version": 3
   },
   "file_extension": ".py",
   "mimetype": "text/x-python",
   "name": "python",
   "nbconvert_exporter": "python",
   "pygments_lexer": "ipython3",
   "version": "3.9.13"
  },
  "orig_nbformat": 4,
  "vscode": {
   "interpreter": {
    "hash": "fdcc50b8790cd79eba7c7760378c0f44ab97d60599e9e289704406bba2ea7b42"
   }
  }
 },
 "nbformat": 4,
 "nbformat_minor": 2
}
